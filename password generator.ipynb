{
 "cells": [
  {
   "cell_type": "code",
   "execution_count": 1,
   "metadata": {},
   "outputs": [],
   "source": [
    "import os, sys\n",
    "import random"
   ]
  },
  {
   "cell_type": "code",
   "execution_count": 9,
   "metadata": {},
   "outputs": [],
   "source": [
    "def pass_generate(pass_len, uppercase, lowercase, number, symbol):\n",
    "    # pass_len : number of characters in the password\n",
    "    # uppercase : True, if you want uppercase characters in the password and vice versa\n",
    "    # lowercase : True, if you want lowercase and vice versa\n",
    "    # number : True, if you want numbers and vice versa\n",
    "    # symbol : True, if you want symbols and vice versa\n",
    "    \n",
    "    if not uppercase and not lowercase and not number and not symbol:\n",
    "        print(\"check conditions again\") \n",
    "        return\n",
    "    chars = []\n",
    "    if uppercase:\n",
    "        chars.extend(['A', 'B', 'C', 'D', 'E', 'F', 'G', 'H', 'I', 'J', 'K', 'L', 'M', 'N', 'O', 'P', 'Q', 'R', 'S', 'T', 'U', 'V', 'W', 'X', 'Y', 'Z'])\n",
    "    if lowercase:\n",
    "        chars.extend(['a', 'b', 'c', 'd', 'e', 'f', 'g', 'h', 'i', 'j', 'k', 'l', 'm', 'n', 'o', 'p', 'q', 'r', 's', 't', 'u', 'v', 'w', 'x', 'y', 'z'])\n",
    "    if number:\n",
    "        chars.extend(['0', '1', '2', '3', '4', '5', '6', '7', '8', '9'])\n",
    "    if symbol:\n",
    "        chars.extend(['!', '@', '$', '%', '&', '*', '(', ')', '-', '+', '?', '#'])\n",
    "    password = \"\"\n",
    "    for i in range(int(pass_len)):\n",
    "        password = password +  chars[random.randint(0,len(chars) - 1)]\n",
    "    print(password)"
   ]
  },
  {
   "cell_type": "code",
   "execution_count": 11,
   "metadata": {},
   "outputs": [
    {
     "name": "stdout",
     "output_type": "stream",
     "text": [
      "J4CePmJ9\n"
     ]
    }
   ],
   "source": [
    "pass_generate(8, True, True, True, True) #8 characters in the password with all conditions as True"
   ]
  },
  {
   "cell_type": "code",
   "execution_count": 12,
   "metadata": {},
   "outputs": [
    {
     "name": "stdout",
     "output_type": "stream",
     "text": [
      "3pmo78RJJCnr1\n"
     ]
    }
   ],
   "source": [
    "pass_generate(13, True, True, True, False)"
   ]
  },
  {
   "cell_type": "code",
   "execution_count": 13,
   "metadata": {},
   "outputs": [
    {
     "name": "stdout",
     "output_type": "stream",
     "text": [
      "check conditions again\n"
     ]
    }
   ],
   "source": [
    "pass_generate(10, False, False, False, False)"
   ]
  },
  {
   "cell_type": "code",
   "execution_count": null,
   "metadata": {},
   "outputs": [],
   "source": []
  }
 ],
 "metadata": {
  "kernelspec": {
   "display_name": "Python 3",
   "language": "python",
   "name": "python3"
  },
  "language_info": {
   "codemirror_mode": {
    "name": "ipython",
    "version": 3
   },
   "file_extension": ".py",
   "mimetype": "text/x-python",
   "name": "python",
   "nbconvert_exporter": "python",
   "pygments_lexer": "ipython3",
   "version": "3.8.3"
  }
 },
 "nbformat": 4,
 "nbformat_minor": 4
}
